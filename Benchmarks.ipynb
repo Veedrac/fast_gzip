{
 "metadata": {
  "name": "",
  "signature": "sha256:e45c80857ca77785d5d8f0d017a7793902a6597f374e0cd88e145456b35d93e6"
 },
 "nbformat": 3,
 "nbformat_minor": 0,
 "worksheets": [
  {
   "cells": [
    {
     "cell_type": "code",
     "collapsed": false,
     "input": [
      "%pylab inline\n",
      "import fgzip\n",
      "import os\n",
      "import timeit\n",
      "\n",
      "import numpy as np\n",
      "import matplotlib.pyplot as plt\n",
      "import seaborn as sb"
     ],
     "language": "python",
     "metadata": {},
     "outputs": [
      {
       "output_type": "stream",
       "stream": "stdout",
       "text": [
        "Populating the interactive namespace from numpy and matplotlib\n"
       ]
      },
      {
       "output_type": "stream",
       "stream": "stderr",
       "text": [
        "WARNING: pylab import has clobbered these variables: ['test']\n",
        "`%matplotlib` prevents importing * from pylab and numpy\n"
       ]
      }
     ],
     "prompt_number": 21
    },
    {
     "cell_type": "code",
     "collapsed": false,
     "input": [
      "test_file = \"/Users/legaultmarc/reference/GRCh37/human_g1k_v37.fasta.gz\"\n",
      "\n",
      "chunk_sizes = {\n",
      "    \"1kb\": 1 * 1024,\n",
      "    \"32kb\": 32 * 1024,\n",
      "    \"64kb\": 64 * 1024,\n",
      "    \"128kb\": 128 * 1024,\n",
      "    \"256kb\": 256 * 1024,\n",
      "    \"512kb\": 512 * 1024,\n",
      "}\n",
      "\n",
      "data = []\n",
      "for k, chunk_size in chunk_sizes.iteritems():\n",
      "    \n",
      "    def test():\n",
      "        i = 0\n",
      "        with fgzip.open(test_file, chunk_size) as f:\n",
      "            for line in f:\n",
      "                i += 1\n",
      "        assert i == 51696831\n",
      "    \n",
      "    t = timeit.timeit(\"test()\", \"from __main__ import test\", number=3)\n",
      "    print k, t\n",
      "    data.append((k, t))"
     ],
     "language": "python",
     "metadata": {},
     "outputs": [
      {
       "output_type": "stream",
       "stream": "stdout",
       "text": [
        "256kb 81.6056780815\n"
       ]
      },
      {
       "output_type": "stream",
       "stream": "stdout",
       "text": [
        "1kb 553.92594409\n"
       ]
      },
      {
       "output_type": "stream",
       "stream": "stdout",
       "text": [
        "512kb 79.5930261612\n"
       ]
      },
      {
       "output_type": "stream",
       "stream": "stdout",
       "text": [
        "128kb 82.7271800041\n"
       ]
      },
      {
       "output_type": "stream",
       "stream": "stdout",
       "text": [
        "32kb 94.2784428596\n"
       ]
      },
      {
       "output_type": "stream",
       "stream": "stdout",
       "text": [
        "64kb 77.2360720634\n"
       ]
      }
     ],
     "prompt_number": 7
    },
    {
     "cell_type": "code",
     "collapsed": false,
     "input": [
      "print data"
     ],
     "language": "python",
     "metadata": {},
     "outputs": [
      {
       "output_type": "stream",
       "stream": "stdout",
       "text": [
        "[[   1.          553.92594409]\n",
        " [  32.           94.27844286]\n",
        " [  64.           77.23607206]\n",
        " [ 128.           82.72718   ]\n",
        " [ 256.           81.60567808]\n",
        " [ 512.           79.59302616]]\n"
       ]
      }
     ],
     "prompt_number": 28
    },
    {
     "cell_type": "code",
     "collapsed": false,
     "input": [
      "data = [(int(i.rstrip(\"kb\")), j) for (i, j) in data]\n",
      "data = np.array(sorted(data, key=lambda x: x[0]))"
     ],
     "language": "python",
     "metadata": {},
     "outputs": [],
     "prompt_number": 19
    },
    {
     "cell_type": "code",
     "collapsed": false,
     "input": [
      "fig = plt.figure(figsize=(15, 5))\n",
      "plt.plot(data[:, 0], data[:, 1])\n",
      "plt.xlabel(\"Chunk Size (kb)\")\n",
      "plt.ylabel(\"Execution time (s)\")\n",
      "plt.ylim((60, 110))"
     ],
     "language": "python",
     "metadata": {},
     "outputs": [
      {
       "metadata": {},
       "output_type": "pyout",
       "prompt_number": 27,
       "text": [
        "(60, 110)"
       ]
      },
      {
       "metadata": {},
       "output_type": "display_data",
       "png": "[encoded data removed]",
       "text": [
        "<matplotlib.figure.Figure at 0x11754f750>"
       ]
      }
     ],
     "prompt_number": 27
    },
    {
     "cell_type": "code",
     "collapsed": false,
     "input": [],
     "language": "python",
     "metadata": {},
     "outputs": []
    }
   ],
   "metadata": {}
  }
 ]
}